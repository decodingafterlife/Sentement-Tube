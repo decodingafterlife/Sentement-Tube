{
 "cells": [
  {
   "cell_type": "code",
   "execution_count": 9,
   "id": "9244fe69",
   "metadata": {},
   "outputs": [
    {
     "name": "stderr",
     "output_type": "stream",
     "text": [
      "[nltk_data] Downloading package punkt to\n",
      "[nltk_data]     C:\\Users\\Tanmay\\AppData\\Roaming\\nltk_data...\n",
      "[nltk_data]   Package punkt is already up-to-date!\n",
      "[nltk_data] Downloading package stopwords to\n",
      "[nltk_data]     C:\\Users\\Tanmay\\AppData\\Roaming\\nltk_data...\n",
      "[nltk_data]   Unzipping corpora\\stopwords.zip.\n"
     ]
    },
    {
     "data": {
      "text/plain": [
       "True"
      ]
     },
     "execution_count": 9,
     "metadata": {},
     "output_type": "execute_result"
    }
   ],
   "source": [
    "import pandas as pd\n",
    "import re\n",
    "from nltk.tokenize import word_tokenize\n",
    "from nltk.corpus import stopwords\n",
    "from nltk.stem import PorterStemmer\n",
    "from bs4 import BeautifulSoup\n",
    "import nltk\n",
    "#nltk.download('punkt')\n",
    "nltk.download('stopwords')"
   ]
  },
  {
   "cell_type": "code",
   "execution_count": 7,
   "id": "48813f3d",
   "metadata": {},
   "outputs": [
    {
     "name": "stdout",
     "output_type": "stream",
     "text": [
      "The video ID is: BLS5-Mlg9ng\n"
     ]
    }
   ],
   "source": [
    "def extract_video_id(youtube_url):\n",
    "    # Define the regular expression pattern to match the video ID\n",
    "    pattern = re.compile(r'(?:https?:\\/\\/)?(?:www\\.)?(?:youtube\\.com\\/(?:[^\\/\\n\\s]+\\/\\S+\\/|(?:v|e(?:mbed)?)\\/|\\S*?[?&]v=)|youtu\\.be\\/)([a-zA-Z0-9_-]{11})')\n",
    "\n",
    "    # Use the pattern to find the video ID in the URL\n",
    "    match = pattern.search(youtube_url)\n",
    "\n",
    "    if match:\n",
    "        video_id = match.group(1)\n",
    "        return video_id\n",
    "    else:\n",
    "        return None\n",
    "\n",
    "# Example usage\n",
    "youtube_url = \"https://www.youtube.com/watch?v=BLS5-Mlg9ng\"\n",
    "video_id = extract_video_id(youtube_url)\n",
    "\n",
    "if video_id:\n",
    "    print(f\"The video ID is: {video_id}\")\n",
    "else:\n",
    "    print(\"Invalid YouTube URL\")"
   ]
  },
  {
   "cell_type": "code",
   "execution_count": 16,
   "id": "d5f6820f",
   "metadata": {},
   "outputs": [
    {
     "name": "stdout",
     "output_type": "stream",
     "text": [
      "                       comment_text               cleaned_text  \\\n",
      "0  @tanmay Great video! Keep it up!   great video! keep it up!   \n",
      "1                 Terrible content.          terrible content.   \n",
      "2              I love this channel!       i love this channel!   \n",
      "\n",
      "      preprocessed_text  \n",
      "0  great video ! keep !  \n",
      "1     terribl content .  \n",
      "2        love channel !  \n"
     ]
    }
   ],
   "source": [
    "# Sample DataFrame\n",
    "data = {'comment_text': [\"@tanmay Great video! Keep it up!\", \"Terrible content.\", \"I love this channel!\"]}\n",
    "df = pd.DataFrame(data)\n",
    "\n",
    "# Function for text cleaning\n",
    "def clean_text(text):\n",
    "    # Remove HTML tags\n",
    "    text = BeautifulSoup(text, 'html.parser').get_text()\n",
    "    \n",
    "    # Convert to lowercase\n",
    "    text = text.lower()\n",
    "    \n",
    "    # Remove URLs\n",
    "    text = re.sub(r'http\\S+|www\\S+|https\\S+', '', text, flags=re.MULTILINE)\n",
    "    \n",
    "    # Remove special characters and numbers\n",
    "    text = re.sub(r'@[A-Za-z0-9]+', '', text) \n",
    "    \n",
    "    # Remove username\n",
    "    text = re.sub(r'@[A-Za-z0-9]+', '', text)   \n",
    "    return text\n",
    "\n",
    "# Function for tokenization, stopword removal, and stemming\n",
    "def preprocess_text(text):\n",
    "    # Tokenization\n",
    "    tokens = word_tokenize(text)\n",
    "    \n",
    "    # Remove stopwords\n",
    "    stop_words = set(stopwords.words('english'))\n",
    "    tokens = [token for token in tokens if token not in stop_words]\n",
    "    \n",
    "    # Stemming\n",
    "    stemmer = PorterStemmer()\n",
    "    tokens = [stemmer.stem(token) for token in tokens]\n",
    "    \n",
    "    return ' '.join(tokens)\n",
    "\n",
    "# Apply text cleaning and preprocessing to the 'comment_text' column\n",
    "df['cleaned_text'] = df['comment_text'].apply(clean_text)\n",
    "df['preprocessed_text'] = df['cleaned_text'].apply(preprocess_text)\n",
    "\n",
    "# Display the cleaned and preprocessed DataFrame\n",
    "print(df[['comment_text', 'cleaned_text', 'preprocessed_text']])\n"
   ]
  },
  {
   "cell_type": "code",
   "execution_count": null,
   "id": "b1841093",
   "metadata": {},
   "outputs": [],
   "source": [
    "#WordCloud\n",
    "allWords = ' '.join( [comments for comments in df['Comments']])\n",
    "wordCloud = wordCloud(width = 500, height = 300, random_state = 21, max_font_size = 119)"
   ]
  }
 ],
 "metadata": {
  "kernelspec": {
   "display_name": "Python 3 (ipykernel)",
   "language": "python",
   "name": "python3"
  },
  "language_info": {
   "codemirror_mode": {
    "name": "ipython",
    "version": 3
   },
   "file_extension": ".py",
   "mimetype": "text/x-python",
   "name": "python",
   "nbconvert_exporter": "python",
   "pygments_lexer": "ipython3",
   "version": "3.11.5"
  }
 },
 "nbformat": 4,
 "nbformat_minor": 5
}
