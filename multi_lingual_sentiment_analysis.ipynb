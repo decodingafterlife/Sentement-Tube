{
 "cells": [
  {
   "cell_type": "code",
   "execution_count": 1,
   "id": "5c68a295-0a0d-4c2b-9ad1-e9a7d6b6c6bf",
   "metadata": {},
   "outputs": [
    {
     "name": "stdout",
     "output_type": "stream",
     "text": [
      "Text: I really love using this product. It's amazing!\n",
      "Sentiment Label: 5 stars\n",
      "Sentiment Score: 0.9331679940223694\n"
     ]
    }
   ],
   "source": [
    "from transformers import pipeline\n",
    "\n",
    "# Load sentiment analysis pipeline\n",
    "sentiment_analyzer = pipeline('sentiment-analysis', model='nlptown/bert-base-multilingual-uncased-sentiment')\n",
    "\n",
    "def analyze_sentiment(text):\n",
    "    # Perform sentiment analysis\n",
    "    result = sentiment_analyzer(text)\n",
    "\n",
    "    # Extract sentiment label and score\n",
    "    sentiment_label = result[0]['label']\n",
    "    sentiment_score = result[0]['score']\n",
    "\n",
    "    return sentiment_label, sentiment_score\n",
    "\n",
    "def main():\n",
    "    # Input text for sentiment analysis\n",
    "    text_to_analyze = \"I really love using this product. It's amazing!\"\n",
    "\n",
    "    # Analyze sentiment\n",
    "    sentiment_label, sentiment_score = analyze_sentiment(text_to_analyze)\n",
    "\n",
    "    # Print results\n",
    "    print(f\"Text: {text_to_analyze}\")\n",
    "    print(f\"Sentiment Label: {sentiment_label}\")\n",
    "    print(f\"Sentiment Score: {sentiment_score}\")\n",
    "\n",
    "if __name__ == \"__main__\":\n",
    "    main()\n"
   ]
  },
  {
   "cell_type": "code",
   "execution_count": 2,
   "id": "c647031e-f839-46dd-bdf4-3b709f6a9ba0",
   "metadata": {},
   "outputs": [
    {
     "name": "stdout",
     "output_type": "stream",
     "text": [
      "Text: You are a bad person\n",
      "Emotion Label: 1 star\n",
      "Emotion Score: 0.785595178604126\n"
     ]
    }
   ],
   "source": [
    "from transformers import pipeline\n",
    "\n",
    "# Load emotion detection pipeline\n",
    "emotion_analyzer = pipeline('sentiment-analysis', model='nlptown/bert-base-multilingual-uncased-sentiment')\n",
    "\n",
    "def analyze_emotion(text):\n",
    "    # Perform emotion detection\n",
    "    result = emotion_analyzer(text)\n",
    "\n",
    "    # Extract emotion label and score\n",
    "    emotion_label = result[0]['label']\n",
    "    emotion_score = result[0]['score']\n",
    "\n",
    "    return emotion_label, emotion_score\n",
    "\n",
    "def main():\n",
    "    # Input text for emotion detection\n",
    "    text_to_analyze = \"You are a bad person\"\n",
    "\n",
    "    # Analyze emotion\n",
    "    emotion_label, emotion_score = analyze_emotion(text_to_analyze)\n",
    "\n",
    "    # Print results\n",
    "    print(f\"Text: {text_to_analyze}\")\n",
    "    print(f\"Emotion Label: {emotion_label}\")\n",
    "    print(f\"Emotion Score: {emotion_score}\")\n",
    "\n",
    "if __name__ == \"__main__\":\n",
    "    main()\n"
   ]
  },
  {
   "cell_type": "code",
   "execution_count": null,
   "id": "a9df0e26-c184-46b9-acf6-1b7003fbd36f",
   "metadata": {},
   "outputs": [],
   "source": []
  }
 ],
 "metadata": {
  "kernelspec": {
   "display_name": "Python 3 (ipykernel)",
   "language": "python",
   "name": "python3"
  },
  "language_info": {
   "codemirror_mode": {
    "name": "ipython",
    "version": 3
   },
   "file_extension": ".py",
   "mimetype": "text/x-python",
   "name": "python",
   "nbconvert_exporter": "python",
   "pygments_lexer": "ipython3",
   "version": "3.11.4"
  }
 },
 "nbformat": 4,
 "nbformat_minor": 5
}
