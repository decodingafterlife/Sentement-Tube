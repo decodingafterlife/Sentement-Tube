{
 "cells": [
  {
   "cell_type": "code",
   "execution_count": 1,
   "id": "5c68a295-0a0d-4c2b-9ad1-e9a7d6b6c6bf",
   "metadata": {},
   "outputs": [
    {
     "data": {
      "application/vnd.jupyter.widget-view+json": {
       "model_id": "4c81d551c82f431c987554109d297b5c",
       "version_major": 2,
       "version_minor": 0
      },
      "text/plain": [
       "config.json:   0%|          | 0.00/953 [00:00<?, ?B/s]"
      ]
     },
     "metadata": {},
     "output_type": "display_data"
    },
    {
     "name": "stderr",
     "output_type": "stream",
     "text": [
      "C:\\Users\\Swarup Pokharkar\\AppData\\Local\\Programs\\Python\\Python311\\Lib\\site-packages\\huggingface_hub\\file_download.py:147: UserWarning: `huggingface_hub` cache-system uses symlinks by default to efficiently store duplicated files but your machine does not support them in C:\\Users\\Swarup Pokharkar\\.cache\\huggingface\\hub. Caching files will still work but in a degraded version that might require more space on your disk. This warning can be disabled by setting the `HF_HUB_DISABLE_SYMLINKS_WARNING` environment variable. For more details, see https://huggingface.co/docs/huggingface_hub/how-to-cache#limitations.\n",
      "To support symlinks on Windows, you either need to activate Developer Mode or to run Python as an administrator. In order to see activate developer mode, see this article: https://docs.microsoft.com/en-us/windows/apps/get-started/enable-your-device-for-development\n",
      "  warnings.warn(message)\n"
     ]
    },
    {
     "data": {
      "application/vnd.jupyter.widget-view+json": {
       "model_id": "636af49a4cad4c97a032d7ca2d606b1c",
       "version_major": 2,
       "version_minor": 0
      },
      "text/plain": [
       "pytorch_model.bin:   0%|          | 0.00/669M [00:00<?, ?B/s]"
      ]
     },
     "metadata": {},
     "output_type": "display_data"
    },
    {
     "data": {
      "application/vnd.jupyter.widget-view+json": {
       "model_id": "ad6fdf4a70b446d1a57af52cd90baf5a",
       "version_major": 2,
       "version_minor": 0
      },
      "text/plain": [
       "tokenizer_config.json:   0%|          | 0.00/39.0 [00:00<?, ?B/s]"
      ]
     },
     "metadata": {},
     "output_type": "display_data"
    },
    {
     "data": {
      "application/vnd.jupyter.widget-view+json": {
       "model_id": "f87e49311c4c418e939224e16c849bb9",
       "version_major": 2,
       "version_minor": 0
      },
      "text/plain": [
       "vocab.txt:   0%|          | 0.00/872k [00:00<?, ?B/s]"
      ]
     },
     "metadata": {},
     "output_type": "display_data"
    },
    {
     "data": {
      "application/vnd.jupyter.widget-view+json": {
       "model_id": "fbcd81e2a6e84ac2b60048593a9e111d",
       "version_major": 2,
       "version_minor": 0
      },
      "text/plain": [
       "special_tokens_map.json:   0%|          | 0.00/112 [00:00<?, ?B/s]"
      ]
     },
     "metadata": {},
     "output_type": "display_data"
    },
    {
     "name": "stdout",
     "output_type": "stream",
     "text": [
      "Text: I really love using this product. It's amazing!\n",
      "Sentiment Label: 5 stars\n",
      "Sentiment Score: 0.9331679940223694\n"
     ]
    }
   ],
   "source": [
    "from transformers import pipeline\n",
    "\n",
    "# Load sentiment analysis pipeline\n",
    "sentiment_analyzer = pipeline('sentiment-analysis', model='nlptown/bert-base-multilingual-uncased-sentiment')\n",
    "\n",
    "def analyze_sentiment(text):\n",
    "    # Perform sentiment analysis\n",
    "    result = sentiment_analyzer(text)\n",
    "\n",
    "    # Extract sentiment label and score\n",
    "    sentiment_label = result[0]['label']\n",
    "    sentiment_score = result[0]['score']\n",
    "\n",
    "    return sentiment_label, sentiment_score\n",
    "\n",
    "def main():\n",
    "    # Input text for sentiment analysis\n",
    "    text_to_analyze = \"I really love using this product. It's amazing!\"\n",
    "\n",
    "    # Analyze sentiment\n",
    "    sentiment_label, sentiment_score = analyze_sentiment(text_to_analyze)\n",
    "\n",
    "    # Print results\n",
    "    print(f\"Text: {text_to_analyze}\")\n",
    "    print(f\"Sentiment Label: {sentiment_label}\")\n",
    "    print(f\"Sentiment Score: {sentiment_score}\")\n",
    "\n",
    "if __name__ == \"__main__\":\n",
    "    main()\n"
   ]
  },
  {
   "cell_type": "code",
   "execution_count": 7,
   "id": "c647031e-f839-46dd-bdf4-3b709f6a9ba0",
   "metadata": {},
   "outputs": [
    {
     "name": "stdout",
     "output_type": "stream",
     "text": [
      "Text: You are a person\n",
      "Emotion Label: 5 stars\n",
      "Emotion Score: 0.4415815770626068\n"
     ]
    }
   ],
   "source": [
    "from transformers import pipeline\n",
    "\n",
    "# Load emotion detection pipeline\n",
    "emotion_analyzer = pipeline('sentiment-analysis', model='nlptown/bert-base-multilingual-uncased-sentiment')\n",
    "\n",
    "def analyze_emotion(text):\n",
    "    # Perform emotion detection\n",
    "    result = emotion_analyzer(text)\n",
    "\n",
    "    # Extract emotion label and score\n",
    "    emotion_label = result[0]['label']\n",
    "    emotion_score = result[0]['score']\n",
    "\n",
    "    return emotion_label, emotion_score\n",
    "\n",
    "def main():\n",
    "    # Input text for emotion detection\n",
    "    text_to_analyze = \"You are a person\"\n",
    "\n",
    "    # Analyze emotion\n",
    "    emotion_label, emotion_score = analyze_emotion(text_to_analyze)\n",
    "\n",
    "    # Print results\n",
    "    print(f\"Text: {text_to_analyze}\")\n",
    "    print(f\"Emotion Label: {emotion_label}\")\n",
    "    print(f\"Emotion Score: {emotion_score}\")\n",
    "\n",
    "if __name__ == \"__main__\":\n",
    "    main()\n"
   ]
  },
  {
   "cell_type": "code",
   "execution_count": null,
   "id": "a9df0e26-c184-46b9-acf6-1b7003fbd36f",
   "metadata": {},
   "outputs": [],
   "source": []
  }
 ],
 "metadata": {
  "kernelspec": {
   "display_name": "Python 3 (ipykernel)",
   "language": "python",
   "name": "python3"
  },
  "language_info": {
   "codemirror_mode": {
    "name": "ipython",
    "version": 3
   },
   "file_extension": ".py",
   "mimetype": "text/x-python",
   "name": "python",
   "nbconvert_exporter": "python",
   "pygments_lexer": "ipython3",
   "version": "3.11.4"
  }
 },
 "nbformat": 4,
 "nbformat_minor": 5
}
